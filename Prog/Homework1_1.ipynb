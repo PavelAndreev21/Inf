{
 "cells": [
  {
   "cell_type": "code",
   "execution_count": 1,
   "id": "4c56f961",
   "metadata": {},
   "outputs": [
    {
     "name": "stdout",
     "output_type": "stream",
     "text": [
      "Введите количество строк матрицы коэффициентов:2\n",
      "строка 1: 1 2 \n",
      "строка 2: 3 4\n",
      "[[1.0, 2.0], [3.0, 4.0]]\n"
     ]
    }
   ],
   "source": [
    "kol_strok = int(input('Введите количество строк матрицы коэффициентов:'))\n",
    "myA = [list(map(float, (input(f\"строка {i+1}: \").split()))) \n",
    "    for i in range(kol_strok)]\n",
    "print(myA)"
   ]
  },
  {
   "cell_type": "code",
   "execution_count": 2,
   "id": "07e14ac6",
   "metadata": {},
   "outputs": [
    {
     "name": "stdout",
     "output_type": "stream",
     "text": [
      "Введите матрицу правых частей, пробелы между числами: 20 30\n",
      "[20.0, 30.0]\n"
     ]
    }
   ],
   "source": [
    "myB = map(float, input(\"Введите матрицу правых частей, пробелы между числами: \").split())\n",
    "myB = list(myB)\n",
    "print(myB)"
   ]
  },
  {
   "cell_type": "code",
   "execution_count": 63,
   "id": "6c63619b",
   "metadata": {},
   "outputs": [],
   "source": [
    "def Output(A, B, selected):\n",
    "    for row in range(len(B)):\n",
    "        print(\"(\", end='')\n",
    "        for col in range(len(A[row])):\n",
    "             print(\"\\t{1:1.3f}{0}\".format(\" \" if (selected is None\n",
    "or selected != (row, col)) else \"*\", A[row][col]), end='')\n",
    "        print(\"\\t) * (\\tX{0}) = (\\t{1:1.3f})\".format(row + 1, B[row]))\n",
    "    print('')"
   ]
  },
  {
   "cell_type": "code",
   "execution_count": 4,
   "id": "b4392f19",
   "metadata": {},
   "outputs": [],
   "source": [
    "def RowSwap(A, B, row1, row2):\n",
    "    A[row1], A[row2] = A[row2], A[row1]\n",
    "    B[row1], B[row2] = B[row2], B[row1]"
   ]
  },
  {
   "cell_type": "code",
   "execution_count": 5,
   "id": "a57ea59e",
   "metadata": {},
   "outputs": [],
   "source": [
    "def RowDivide(A, B, row, divider):\n",
    "    A[row] = [a / divider for a in A[row]]\n",
    "    B[row] /= divider"
   ]
  },
  {
   "cell_type": "code",
   "execution_count": 6,
   "id": "afb4d381",
   "metadata": {},
   "outputs": [],
   "source": [
    "def RowSum(A, B, row, source_row, coefficient):\n",
    "    A[row] = [(a + k * coefficient) for a, k in zip(A[row], A[source_row])]\n",
    "    B[row] += B[source_row] * coefficient\n",
    "    "
   ]
  },
  {
   "cell_type": "code",
   "execution_count": 64,
   "id": "fa365bea",
   "metadata": {},
   "outputs": [],
   "source": [
    "def Gauss(A, B):\n",
    "    column = 0\n",
    "    while column < len(B):\n",
    "        RowDivide(A, B, column, A[column][column])\n",
    "        Output(A, B, (column,column))\n",
    "        for i in range(len(A) - 1 - column):\n",
    "            RowSum(A, B, i+1+column, column, -A[i + 1 + column][column])\n",
    "        Output(A, B, (column,column))\n",
    "        column += 1\n",
    "    X = [0 for b in B]\n",
    "    for i in range(len(B)-1, -1, -1):\n",
    "        X[i] = B[i] - sum(x * a for x, a in zip(X[(i + 1):], A[i][(i + 1):]))\n",
    "    for i in range(len(X)):\n",
    "        print(f'x{i+1} = {round(X[i], 2)}')\n"
   ]
  },
  {
   "cell_type": "code",
   "execution_count": 65,
   "id": "7ce594f3",
   "metadata": {},
   "outputs": [
    {
     "name": "stdout",
     "output_type": "stream",
     "text": [
      "(\t1.000*\t2.000 \t) * (\tX1) = (\t20.000)\n",
      "(\t0.000 \t1.000 \t) * (\tX2) = (\t15.000)\n",
      "\n",
      "(\t1.000*\t2.000 \t) * (\tX1) = (\t20.000)\n",
      "(\t0.000 \t1.000 \t) * (\tX2) = (\t15.000)\n",
      "\n",
      "(\t1.000 \t2.000 \t) * (\tX1) = (\t20.000)\n",
      "(\t0.000 \t1.000*\t) * (\tX2) = (\t15.000)\n",
      "\n",
      "(\t1.000 \t2.000 \t) * (\tX1) = (\t20.000)\n",
      "(\t0.000 \t1.000*\t) * (\tX2) = (\t15.000)\n",
      "\n",
      "x1 = -10.0\n",
      "x2 = 15.0\n"
     ]
    }
   ],
   "source": [
    "Gauss(myA, myB)"
   ]
  }
 ],
 "metadata": {
  "kernelspec": {
   "display_name": "Python 3 (ipykernel)",
   "language": "python",
   "name": "python3"
  },
  "language_info": {
   "codemirror_mode": {
    "name": "ipython",
    "version": 3
   },
   "file_extension": ".py",
   "mimetype": "text/x-python",
   "name": "python",
   "nbconvert_exporter": "python",
   "pygments_lexer": "ipython3",
   "version": "3.10.2"
  }
 },
 "nbformat": 4,
 "nbformat_minor": 5
}
