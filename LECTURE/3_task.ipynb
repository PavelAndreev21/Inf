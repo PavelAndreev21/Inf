{
 "cells": [
  {
   "cell_type": "markdown",
   "id": "657be689",
   "metadata": {},
   "source": [
    "# Самостоятельное задание #3\n",
    "\n",
    "\n",
    "### Задание 1\n",
    "\n",
    "Допишите функцию, которая принимает массив из 10 чисел и возвращает их сумму."
   ]
  },
  {
   "cell_type": "code",
   "execution_count": 34,
   "id": "18ffcbab",
   "metadata": {},
   "outputs": [
    {
     "data": {
      "text/plain": [
       "2"
      ]
     },
     "execution_count": 34,
     "metadata": {},
     "output_type": "execute_result"
    }
   ],
   "source": [
    "# Начните писать код тут\n",
    "a = [0,2,3,0,5,6,7,8,9,10]\n",
    "def massive_sum(a) -> float:\n",
    "    n = 0\n",
    "    for i in a:\n",
    "        if i == 0:\n",
    "            n += 1\n",
    "    return n\n",
    "\n",
    "massive_sum(a)\n",
    "        \n",
    "        \n",
    "    "
   ]
  },
  {
   "cell_type": "markdown",
   "id": "eb78afc0",
   "metadata": {},
   "source": [
    "\n",
    "### Задание 2\n",
    "\n",
    "Допишите функцию, которая принимает массив чисел и возвращает количество чисел равных нулю."
   ]
  },
  {
   "cell_type": "code",
   "execution_count": null,
   "id": "7e8fe536",
   "metadata": {},
   "outputs": [],
   "source": [
    "# Начните писать код тут"
   ]
  },
  {
   "cell_type": "markdown",
   "id": "570d5a26",
   "metadata": {},
   "source": [
    "\n",
    "### Задание 3\n",
    "\n",
    "Напишите программу, в которой задается  натуральное число n и выводится лестница из n ступенек, i-я ступенька должна состоять из чисел от 1 до i без пробелов."
   ]
  },
  {
   "cell_type": "code",
   "execution_count": 14,
   "id": "69fd0501",
   "metadata": {},
   "outputs": [
    {
     "name": "stdout",
     "output_type": "stream",
     "text": [
      "10\n",
      "1\n",
      "12\n",
      "123\n",
      "1234\n",
      "12345\n",
      "123456\n",
      "1234567\n",
      "12345678\n",
      "123456789\n",
      "12345678910\n"
     ]
    }
   ],
   "source": [
    "i = int(input())\n",
    "def lesenka(i:int) -> int:\n",
    "    for b in range (1,i+1):\n",
    "        for a in range (1,b+1):\n",
    "            print (a,end = '')\n",
    "        else:\n",
    "            print('')\n",
    "            \n",
    "lesenka(i)"
   ]
  },
  {
   "cell_type": "markdown",
   "id": "b6ef1c44",
   "metadata": {},
   "source": [
    "\n",
    "### Задание 4\n",
    "\n",
    "Напишите программу, в которой задается натуральное число n и выводится пирамида из n ступенек, i-я ступень должна состоять из чисел от 1 до i и обратно без пробелов."
   ]
  },
  {
   "cell_type": "code",
   "execution_count": 10,
   "id": "9f79c48e",
   "metadata": {},
   "outputs": [
    {
     "name": "stdout",
     "output_type": "stream",
     "text": [
      "4\n",
      "   11\n",
      "  1221\n",
      " 123321\n",
      "12344321\n"
     ]
    }
   ],
   "source": [
    "i = int(input())\n",
    "def lesenka(i:int) -> int:\n",
    "    for b in range (1,i+1):\n",
    "        print (' '*(i-b), end = '')\n",
    "        for a in range (1,b+1):\n",
    "            print (a,end = '')\n",
    "        for a in range (b,0,-1):\n",
    "            print (a,end = '')\n",
    "        else:\n",
    "            print('')\n",
    "            \n",
    "lesenka(i)"
   ]
  },
  {
   "cell_type": "markdown",
   "id": "b4552ef5",
   "metadata": {},
   "source": [
    "\n",
    "### Задание 5\n",
    "\n",
    "Напишите программу, в которой задается натуральное число n и выводится ромб из `n*2-1` ступенек, i-я ступень должна состоять из чисел от 1 до i и обратно без пробелов."
   ]
  },
  {
   "cell_type": "code",
   "execution_count": 18,
   "id": "5eaae897",
   "metadata": {},
   "outputs": [
    {
     "name": "stdout",
     "output_type": "stream",
     "text": [
      "8\n",
      "        11\n",
      "       1221\n",
      "      123321\n",
      "     12344321\n",
      "    1234554321\n",
      "   123456654321\n",
      "  12345677654321\n",
      " 1234567887654321\n",
      "  12345677654321\n",
      "   123456654321\n",
      "    1234554321\n",
      "     12344321\n",
      "      123321\n",
      "       1221\n",
      "        11\n"
     ]
    }
   ],
   "source": [
    "i = int(input())\n",
    "def lesenka(i:int) -> int:\n",
    "    for b in range (1,i):\n",
    "        print (' '*(i-b+1), end = '')\n",
    "        for a in range (1,b+1):\n",
    "            print (a,end = '')\n",
    "        for a in range (b,0,-1):\n",
    "            print (a,end = '')\n",
    "        else:\n",
    "            print('')\n",
    "    for b in range (i,0,-1):\n",
    "        print (' '*(i-b+1), end = '')\n",
    "        for a in range (1,b+1):\n",
    "            print (a,end = '')\n",
    "        for a in range (b,0,-1):\n",
    "            print (a,end = '')\n",
    "        else:\n",
    "            print('')\n",
    "            \n",
    "lesenka(i)"
   ]
  },
  {
   "cell_type": "code",
   "execution_count": null,
   "id": "0b1a71b0",
   "metadata": {},
   "outputs": [],
   "source": []
  }
 ],
 "metadata": {
  "kernelspec": {
   "display_name": "Python 3",
   "language": "python",
   "name": "python3"
  },
  "language_info": {
   "codemirror_mode": {
    "name": "ipython",
    "version": 3
   },
   "file_extension": ".py",
   "mimetype": "text/x-python",
   "name": "python",
   "nbconvert_exporter": "python",
   "pygments_lexer": "ipython3",
   "version": "3.8.8"
  }
 },
 "nbformat": 4,
 "nbformat_minor": 5
}
